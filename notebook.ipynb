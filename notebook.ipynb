{
 "cells": [
  {
   "cell_type": "markdown",
   "metadata": {
    "id": "YhI3_hQwW55c"
   },
   "source": [
    "# Market Recommendation for a New Product\n",
    "## Brief Summary\n",
    "The premise is that we are promoting a new cup made of reusable materials into an existing (mock) market. We need to find out which types of shops among local businessess in which to market the new cup. The shops in the market are as follows:\n",
    "* Cafe\n",
    "* Coffee shop\n",
    "* Espresso shop\n",
    "* Others\n",
    "\n",
    "This notebook is made up of the sections below:\n",
    "1. Data validation and cleaning\n",
    "2. Intepretation\n",
    "3. Grouped intepretation\n",
    "4. Conclusion"
   ]
  },
  {
   "cell_type": "markdown",
   "metadata": {
    "id": "QMs6Jw7elv5Y"
   },
   "source": [
    "## Data validation and cleaning\n",
    "Data validation will be done to verify the state of the imported data - whether it's usable, needs to be cleaned, or where there are blatant problems.\n",
    "\n",
    "Cleaning is self explanatory.\n"
   ]
  },
  {
   "cell_type": "code",
   "execution_count": 1,
   "metadata": {
    "executionInfo": {
     "elapsed": 867,
     "status": "ok",
     "timestamp": 1686638492547,
     "user": {
      "displayName": "Evinash",
      "userId": "05532691529750475260"
     },
     "user_tz": -480
    },
    "id": "D2BPoQuDmDRE"
   },
   "outputs": [],
   "source": [
    "# imports libraries\n",
    "import numpy as np\n",
    "import matplotlib.pyplot as plt\n",
    "import pandas as pd"
   ]
  },
  {
   "cell_type": "code",
   "execution_count": 2,
   "metadata": {
    "colab": {
     "base_uri": "https://localhost:8080/"
    },
    "executionInfo": {
     "elapsed": 68,
     "status": "ok",
     "timestamp": 1686638534073,
     "user": {
      "displayName": "Evinash",
      "userId": "05532691529750475260"
     },
     "user_tz": -480
    },
    "id": "8DfyTlGAo-Iu",
    "outputId": "8dff2ee7-c939-474c-930f-686ad3d0562d"
   },
   "outputs": [
    {
     "name": "stdout",
     "output_type": "stream",
     "text": [
      "    Region                   Place name   Place type  Rating  Reviews Price  \\\n",
      "0        C                     Dim Kavu       Others     4.6    206.0    $$   \n",
      "1        C                      Коферум         Cafe     5.0     24.0    $$   \n",
      "2        C             Кофейня Світ Чаю  Coffee shop     5.0     11.0    $$   \n",
      "3        C             Кофейня Starcoff  Coffee shop     4.4    331.0    $$   \n",
      "4        C        Кофейня \"Friend Zone\"  Coffee shop     5.0     12.0    $$   \n",
      "..     ...                          ...          ...     ...      ...   ...   \n",
      "195      H                       Artist       Others     4.6    963.0   $$$   \n",
      "196      H                   Dream Cafe         Cafe     4.3    646.0    $$   \n",
      "197      H  РУТА КАФЕ ПП КУЛІЧЕНКО К.І.         Cafe     4.6     16.0    $$   \n",
      "198      H               Ob'yektna Kava  Coffee shop     4.7    599.0    $$   \n",
      "199      H   О...МАРАТ КАФЕ ПП ПОЛІСТЕП         Cafe     4.3    341.0    $$   \n",
      "\n",
      "     Delivery option Dine in option Takeout option  \n",
      "0              False            NaN            NaN  \n",
      "1              False            NaN           True  \n",
      "2              False            NaN           True  \n",
      "3              False           True           True  \n",
      "4              False           True           True  \n",
      "..               ...            ...            ...  \n",
      "195            False           True           True  \n",
      "196            False           True           True  \n",
      "197            False           True           True  \n",
      "198            False           True           True  \n",
      "199            False           True            NaN  \n",
      "\n",
      "[200 rows x 9 columns]\n"
     ]
    }
   ],
   "source": [
    "# importing the csv file\n",
    "coffee = pd.read_csv('coffee.csv')\n",
    "print(coffee)"
   ]
  },
  {
   "cell_type": "markdown",
   "metadata": {
    "id": "9-9BAq_Apy-a"
   },
   "source": [
    "Well let's take a look at the dataframe"
   ]
  },
  {
   "cell_type": "code",
   "execution_count": 3,
   "metadata": {
    "colab": {
     "base_uri": "https://localhost:8080/"
    },
    "executionInfo": {
     "elapsed": 59,
     "status": "ok",
     "timestamp": 1686638534073,
     "user": {
      "displayName": "Evinash",
      "userId": "05532691529750475260"
     },
     "user_tz": -480
    },
    "id": "NollkEAep7pd",
    "outputId": "c95892c4-cf4b-4256-8448-75fb5476ac09"
   },
   "outputs": [
    {
     "name": "stdout",
     "output_type": "stream",
     "text": [
      "<class 'pandas.core.frame.DataFrame'>\n",
      "RangeIndex: 200 entries, 0 to 199\n",
      "Data columns (total 9 columns):\n",
      " #   Column           Non-Null Count  Dtype  \n",
      "---  ------           --------------  -----  \n",
      " 0   Region           200 non-null    object \n",
      " 1   Place name       200 non-null    object \n",
      " 2   Place type       200 non-null    object \n",
      " 3   Rating           198 non-null    float64\n",
      " 4   Reviews          198 non-null    float64\n",
      " 5   Price            200 non-null    object \n",
      " 6   Delivery option  200 non-null    bool   \n",
      " 7   Dine in option   140 non-null    object \n",
      " 8   Takeout option   144 non-null    object \n",
      "dtypes: bool(1), float64(2), object(6)\n",
      "memory usage: 12.8+ KB\n"
     ]
    }
   ],
   "source": [
    "coffee.info()"
   ]
  },
  {
   "cell_type": "code",
   "execution_count": 4,
   "metadata": {
    "colab": {
     "base_uri": "https://localhost:8080/"
    },
    "executionInfo": {
     "elapsed": 56,
     "status": "ok",
     "timestamp": 1686638534076,
     "user": {
      "displayName": "Evinash",
      "userId": "05532691529750475260"
     },
     "user_tz": -480
    },
    "id": "qCmJ_JI4qIpw",
    "outputId": "54cd46b4-b90a-4b2c-8ded-5056920b80ac"
   },
   "outputs": [
    {
     "name": "stdout",
     "output_type": "stream",
     "text": [
      "Region : 10\n",
      "Place name : 187\n",
      "Place type : 4\n",
      "Rating : 12\n",
      "Reviews : 163\n",
      "Price : 3\n",
      "Delivery option : 2\n",
      "Dine in option : 1\n",
      "Takeout option : 1\n"
     ]
    }
   ],
   "source": [
    "# checks for the number of unique items in each column\n",
    "for column in coffee:\n",
    "  print(column, ':', coffee[column].nunique())"
   ]
  },
  {
   "cell_type": "markdown",
   "metadata": {
    "id": "JvxyLrqTs3sx"
   },
   "source": [
    "region is fine - 10 unique values\\\n",
    "place name is not fine - suggests that there are duplicate entries\\\n",
    "place type is fine - 4 unique types\\\n",
    "rating we will need to inspect with max() and min() to see if it's appropriate\\\n",
    "reviews seem fine - will inpsect with max() and min()\\\n",
    "price is fine - 3 values\\\n",
    "delibery option is fine - 2 values\\\n",
    "dine in option will need to be cleaned\\\n",
    "takeout option will need to be cleaned"
   ]
  },
  {
   "cell_type": "code",
   "execution_count": 5,
   "metadata": {
    "colab": {
     "base_uri": "https://localhost:8080/",
     "height": 300
    },
    "executionInfo": {
     "elapsed": 50,
     "status": "ok",
     "timestamp": 1686638534077,
     "user": {
      "displayName": "Evinash",
      "userId": "05532691529750475260"
     },
     "user_tz": -480
    },
    "id": "k-83kljcvw5m",
    "outputId": "5a8da253-e866-4265-ec36-28d98337fc4c"
   },
   "outputs": [
    {
     "data": {
      "text/html": [
       "<div>\n",
       "<style scoped>\n",
       "    .dataframe tbody tr th:only-of-type {\n",
       "        vertical-align: middle;\n",
       "    }\n",
       "\n",
       "    .dataframe tbody tr th {\n",
       "        vertical-align: top;\n",
       "    }\n",
       "\n",
       "    .dataframe thead th {\n",
       "        text-align: right;\n",
       "    }\n",
       "</style>\n",
       "<table border=\"1\" class=\"dataframe\">\n",
       "  <thead>\n",
       "    <tr style=\"text-align: right;\">\n",
       "      <th></th>\n",
       "      <th>Rating</th>\n",
       "      <th>Reviews</th>\n",
       "    </tr>\n",
       "  </thead>\n",
       "  <tbody>\n",
       "    <tr>\n",
       "      <th>count</th>\n",
       "      <td>198.000000</td>\n",
       "      <td>198.000000</td>\n",
       "    </tr>\n",
       "    <tr>\n",
       "      <th>mean</th>\n",
       "      <td>4.663636</td>\n",
       "      <td>622.494949</td>\n",
       "    </tr>\n",
       "    <tr>\n",
       "      <th>std</th>\n",
       "      <td>0.221648</td>\n",
       "      <td>1400.898666</td>\n",
       "    </tr>\n",
       "    <tr>\n",
       "      <th>min</th>\n",
       "      <td>3.900000</td>\n",
       "      <td>3.000000</td>\n",
       "    </tr>\n",
       "    <tr>\n",
       "      <th>25%</th>\n",
       "      <td>4.600000</td>\n",
       "      <td>47.500000</td>\n",
       "    </tr>\n",
       "    <tr>\n",
       "      <th>50%</th>\n",
       "      <td>4.700000</td>\n",
       "      <td>271.500000</td>\n",
       "    </tr>\n",
       "    <tr>\n",
       "      <th>75%</th>\n",
       "      <td>4.800000</td>\n",
       "      <td>786.250000</td>\n",
       "    </tr>\n",
       "    <tr>\n",
       "      <th>max</th>\n",
       "      <td>5.000000</td>\n",
       "      <td>17937.000000</td>\n",
       "    </tr>\n",
       "  </tbody>\n",
       "</table>\n",
       "</div>"
      ],
      "text/plain": [
       "           Rating       Reviews\n",
       "count  198.000000    198.000000\n",
       "mean     4.663636    622.494949\n",
       "std      0.221648   1400.898666\n",
       "min      3.900000      3.000000\n",
       "25%      4.600000     47.500000\n",
       "50%      4.700000    271.500000\n",
       "75%      4.800000    786.250000\n",
       "max      5.000000  17937.000000"
      ]
     },
     "execution_count": 5,
     "metadata": {},
     "output_type": "execute_result"
    }
   ],
   "source": [
    "coffee.describe()"
   ]
  },
  {
   "cell_type": "markdown",
   "metadata": {
    "id": "LVQFGg7wwb0v"
   },
   "source": [
    "we can see that the range of values for rating and reviews are acceptable"
   ]
  },
  {
   "cell_type": "code",
   "execution_count": 6,
   "metadata": {
    "colab": {
     "base_uri": "https://localhost:8080/"
    },
    "executionInfo": {
     "elapsed": 48,
     "status": "ok",
     "timestamp": 1686638534078,
     "user": {
      "displayName": "Evinash",
      "userId": "05532691529750475260"
     },
     "user_tz": -480
    },
    "id": "TtshiKT4q3um",
    "outputId": "b1b5e58c-99a1-4bc7-fbae-a56e90c67e1d"
   },
   "outputs": [
    {
     "name": "stdout",
     "output_type": "stream",
     "text": [
      "    Region               Place name    Place type  Rating  Reviews Price  \\\n",
      "23       J             Coffee House          Cafe     4.7    329.0    $$   \n",
      "45       F             coffee House   Coffee shop     4.7    279.0    $$   \n",
      "66       B                 Dim Kavy  Espresso bar     4.8    118.0    $$   \n",
      "68       B             Coffee House        Others     4.7    132.0    $$   \n",
      "71       B                MY COFFEE   Coffee shop     4.5    341.0    $$   \n",
      "97       A                MY COFFEE   Coffee shop     4.8    150.0    $$   \n",
      "100      E  Lviv Coffee Manufacture   Coffee shop     4.7  17937.0    $$   \n",
      "101      E                Svit Kavy   Coffee shop     4.6   2931.0    $$   \n",
      "107      E                Svit Kavy   Coffee shop     4.3    102.0    $$   \n",
      "108      E  Lviv Coffee Manufacture   Coffee shop     4.5    778.0    $$   \n",
      "112      E             coffee House   Coffee shop     4.7    363.0    $$   \n",
      "120      D                  SV Кафе          Cafe     4.5    998.0    $$   \n",
      "132      D                  SV Кафе          Cafe     4.6    740.0    $$   \n",
      "151      G                    Kaffa          Cafe     4.7   1281.0    $$   \n",
      "154      G                    Kaffa  Espresso bar     4.8    824.0    $$   \n",
      "161      I             Coffee House  Espresso bar     4.5    268.0    $$   \n",
      "162      I                  Sweeter   Coffee shop     4.6    642.0    $$   \n",
      "167      I             coffee House          Cafe     4.6     96.0    $$   \n",
      "171      I                 Dim Kavy  Espresso bar     4.7    185.0    $$   \n",
      "172      I                 Dim Kavy        Others     4.7    222.0    $$   \n",
      "173      I                  Sweeter   Coffee shop     4.6    289.0    $$   \n",
      "181      H                 Dim Kavy        Others     4.9     39.0    $$   \n",
      "\n",
      "     Delivery option Dine in option Takeout option  \n",
      "23             False            NaN           True  \n",
      "45             False           True           True  \n",
      "66             False            NaN            NaN  \n",
      "68             False            NaN            NaN  \n",
      "71             False           True           True  \n",
      "97             False           True           True  \n",
      "100             True           True           True  \n",
      "101            False           True           True  \n",
      "107            False           True           True  \n",
      "108            False           True           True  \n",
      "112            False           True           True  \n",
      "120             True           True           True  \n",
      "132            False           True           True  \n",
      "151            False           True           True  \n",
      "154            False           True           True  \n",
      "161            False            NaN            NaN  \n",
      "162            False           True           True  \n",
      "167            False            NaN            NaN  \n",
      "171            False            NaN            NaN  \n",
      "172            False           True           True  \n",
      "173            False           True           True  \n",
      "181            False            NaN            NaN  \n"
     ]
    }
   ],
   "source": [
    "coffee_dupli = coffee.duplicated(subset='Place name', keep=False)\n",
    "print(coffee[coffee_dupli])"
   ]
  },
  {
   "cell_type": "markdown",
   "metadata": {
    "id": "lytNNC0vwlJC"
   },
   "source": [
    "We do indeed have duplicated names in the 'Place name' column. An even bigger problem is that different duplicated entries have different place types, ratings, reviews.\n",
    "\n",
    "This is not something that can be fixed just by doing \"some cleaning\". Best to verify with the source of the csv file again."
   ]
  },
  {
   "cell_type": "markdown",
   "metadata": {
    "id": "UqrRlcYfx6pG"
   },
   "source": [
    "### Data validation: results\n",
    "Imported csv file has **200 rows x 9 columns**. All rows apart from 'Rating', 'Review', 'Dine in option', 'Takeout option' have no missing values.\n",
    "\n",
    "'Rating', and 'Review' both have 2 missing values - these rows will be dropped in the data cleaning step below.\n",
    "\n",
    "'Dine in option' and 'Takeout option' both have 140 and 144 non-null values respectively. These missing values will be replaced with **False** in the data cleaning step.\n",
    "\n",
    "There are duplicated names in the 'Place name' column. An even bigger problem is that different duplicated entries have different place types, ratings, reviews. This is not something that can be fixed immediately. Best to verify with the source of the csv file again."
   ]
  },
  {
   "cell_type": "markdown",
   "metadata": {
    "id": "ctkjIcdg0Coq"
   },
   "source": [
    "Now to clean the data"
   ]
  },
  {
   "cell_type": "code",
   "execution_count": 7,
   "metadata": {
    "colab": {
     "base_uri": "https://localhost:8080/"
    },
    "executionInfo": {
     "elapsed": 45,
     "status": "ok",
     "timestamp": 1686638534079,
     "user": {
      "displayName": "Evinash",
      "userId": "05532691529750475260"
     },
     "user_tz": -480
    },
    "id": "OBTjkRop0G-2",
    "outputId": "dd7dc6ec-c9f8-480c-fe68-6e7a0cfbff20"
   },
   "outputs": [
    {
     "name": "stdout",
     "output_type": "stream",
     "text": [
      "<class 'pandas.core.frame.DataFrame'>\n",
      "Int64Index: 198 entries, 0 to 199\n",
      "Data columns (total 9 columns):\n",
      " #   Column           Non-Null Count  Dtype  \n",
      "---  ------           --------------  -----  \n",
      " 0   Region           198 non-null    object \n",
      " 1   Place name       198 non-null    object \n",
      " 2   Place type       198 non-null    object \n",
      " 3   Rating           198 non-null    float64\n",
      " 4   Reviews          198 non-null    float64\n",
      " 5   Price            198 non-null    object \n",
      " 6   Delivery option  198 non-null    bool   \n",
      " 7   Dine in option   140 non-null    object \n",
      " 8   Takeout option   144 non-null    object \n",
      "dtypes: bool(1), float64(2), object(6)\n",
      "memory usage: 14.1+ KB\n"
     ]
    }
   ],
   "source": [
    "# dropping rows with missing values in rating and reviews\n",
    "coffee_clean = coffee.dropna(subset=['Rating', 'Reviews'])\n",
    "coffee_clean.info()"
   ]
  },
  {
   "cell_type": "code",
   "execution_count": 8,
   "metadata": {
    "colab": {
     "base_uri": "https://localhost:8080/"
    },
    "executionInfo": {
     "elapsed": 42,
     "status": "ok",
     "timestamp": 1686638534081,
     "user": {
      "displayName": "Evinash",
      "userId": "05532691529750475260"
     },
     "user_tz": -480
    },
    "id": "OzVd8uFi1ixo",
    "outputId": "efd64dec-8bea-4767-f419-c47f11c35103"
   },
   "outputs": [
    {
     "name": "stdout",
     "output_type": "stream",
     "text": [
      "<class 'pandas.core.frame.DataFrame'>\n",
      "Int64Index: 198 entries, 0 to 199\n",
      "Data columns (total 9 columns):\n",
      " #   Column           Non-Null Count  Dtype  \n",
      "---  ------           --------------  -----  \n",
      " 0   Region           198 non-null    object \n",
      " 1   Place name       198 non-null    object \n",
      " 2   Place type       198 non-null    object \n",
      " 3   Rating           198 non-null    float64\n",
      " 4   Reviews          198 non-null    float64\n",
      " 5   Price            198 non-null    object \n",
      " 6   Delivery option  198 non-null    bool   \n",
      " 7   Dine in option   198 non-null    bool   \n",
      " 8   Takeout option   198 non-null    bool   \n",
      "dtypes: bool(3), float64(2), object(4)\n",
      "memory usage: 11.4+ KB\n"
     ]
    }
   ],
   "source": [
    "# replacing null values with False in 'Dine in option' and 'Takeout option'\n",
    "fill_columns = {'Dine in option':False, 'Takeout option':False}\n",
    "coffee_clean = coffee_clean.fillna(fill_columns)\n",
    "coffee_clean.info()"
   ]
  },
  {
   "cell_type": "code",
   "execution_count": 9,
   "metadata": {
    "colab": {
     "base_uri": "https://localhost:8080/"
    },
    "executionInfo": {
     "elapsed": 38,
     "status": "ok",
     "timestamp": 1686638534082,
     "user": {
      "displayName": "Evinash",
      "userId": "05532691529750475260"
     },
     "user_tz": -480
    },
    "id": "wA6Er6f67jZx",
    "outputId": "72f6fe31-23f8-4f77-a902-caa5cf55271a"
   },
   "outputs": [
    {
     "name": "stdout",
     "output_type": "stream",
     "text": [
      "Region : 10\n",
      "Place name : 185\n",
      "Place type : 4\n",
      "Rating : 12\n",
      "Reviews : 163\n",
      "Price : 3\n",
      "Delivery option : 2\n",
      "Dine in option : 2\n",
      "Takeout option : 2\n"
     ]
    }
   ],
   "source": [
    "# checks for the number of unique items in each column\n",
    "for column in coffee_clean:\n",
    "  print(column, ':', coffee_clean[column].nunique())"
   ]
  },
  {
   "cell_type": "code",
   "execution_count": 10,
   "metadata": {
    "colab": {
     "base_uri": "https://localhost:8080/"
    },
    "executionInfo": {
     "elapsed": 35,
     "status": "ok",
     "timestamp": 1686638534082,
     "user": {
      "displayName": "Evinash",
      "userId": "05532691529750475260"
     },
     "user_tz": -480
    },
    "id": "7tsfuTmb8V-Z",
    "outputId": "b710457f-e6e6-40db-9e91-df5b364ba6e5"
   },
   "outputs": [
    {
     "name": "stdout",
     "output_type": "stream",
     "text": [
      "Region : ['C' 'J' 'F' 'B' 'A' 'E' 'D' 'G' 'I' 'H']\n",
      "Place type : ['Others' 'Cafe' 'Coffee shop' 'Espresso bar']\n",
      "Price : ['$$' '$' '$$$']\n",
      "Delivery option : [False  True]\n",
      "Dine in option : [False  True]\n",
      "Takeout option : [False  True]\n"
     ]
    }
   ],
   "source": [
    "# checks for the number of unique items in each column\n",
    "exclude_columns = ['Place name', 'Reviews', 'Rating']\n",
    "\n",
    "for column in coffee_clean:\n",
    "  if column not in exclude_columns:\n",
    "    print(column, ':', coffee_clean[column].unique())"
   ]
  },
  {
   "cell_type": "markdown",
   "metadata": {
    "id": "aEgPePkozxT-"
   },
   "source": [
    "### Data cleaning: results\n",
    "Cleaned the data - removed the two rows with missing 'Rating' and 'Reviews'.\n",
    "\n",
    "Also replaced the missing values in 'Dine in option' and 'Takeout option' with False.\n",
    "\n",
    "Final dataframe has **198 rows x 9 columns**. More details on eaach column below:\n",
    "* region is fine - 10 unique values\n",
    "* place name has only 185 unique values. This suggests that there are duplicate entries\n",
    "* place type is fine - 4 unique types\n",
    "* rating values range from 3.9 to 5.0. This is perfectly fine.\n",
    "* reviews seem fine - range from 3 to 17937. While 3 is quite little, it is perfectly normal for lesser known shops to have very little number of customers leaving reviews/\n",
    "* price is fine - 3 values\n",
    "* delivery option is fine - True or False\n",
    "* dine in option is fine - True or False\n",
    "* takeout option is fine - True or False"
   ]
  },
  {
   "cell_type": "markdown",
   "metadata": {
    "id": "IG0bVC5-33Yc"
   },
   "source": [
    "## Intepretation\n"
   ]
  },
  {
   "cell_type": "markdown",
   "metadata": {
    "id": "0-3AVKZhgU2g"
   },
   "source": [
    "### What is the most common place type in this market?"
   ]
  },
  {
   "cell_type": "code",
   "execution_count": 11,
   "metadata": {
    "colab": {
     "base_uri": "https://localhost:8080/"
    },
    "executionInfo": {
     "elapsed": 32,
     "status": "ok",
     "timestamp": 1686638534083,
     "user": {
      "displayName": "Evinash",
      "userId": "05532691529750475260"
     },
     "user_tz": -480
    },
    "id": "PE1XcMJj4XvX",
    "outputId": "d6a6a159-2250-4b7e-eaa5-a829cbf2717c"
   },
   "outputs": [
    {
     "name": "stdout",
     "output_type": "stream",
     "text": [
      "Place type\n",
      "Cafe            57\n",
      "Coffee shop     96\n",
      "Espresso bar    20\n",
      "Others          25\n",
      "Name: Place type, dtype: int64\n"
     ]
    }
   ],
   "source": [
    "# finding the most common place type\n",
    "place_type = coffee_clean.groupby('Place type')['Place type'].count()\n",
    "print(place_type)"
   ]
  },
  {
   "cell_type": "code",
   "execution_count": 12,
   "metadata": {
    "colab": {
     "base_uri": "https://localhost:8080/",
     "height": 547
    },
    "executionInfo": {
     "elapsed": 996,
     "status": "ok",
     "timestamp": 1686638535050,
     "user": {
      "displayName": "Evinash",
      "userId": "05532691529750475260"
     },
     "user_tz": -480
    },
    "id": "_EVYMibB5oAz",
    "outputId": "c29025b5-25b6-4d73-bee1-ede44d2599a7"
   },
   "outputs": [
    {
     "data": {
      "image/png": "[encoded data removed]",
      "text/plain": [
       "<Figure size 640x480 with 1 Axes>"
      ]
     },
     "metadata": {},
     "output_type": "display_data"
    }
   ],
   "source": [
    "# plotting this\n",
    "place_type.plot(kind='bar')\n",
    "plt.xlabel('Place type')\n",
    "plt.ylabel('Number of shops')\n",
    "plt.title('Counts of place types')\n",
    "\n",
    "# adds grid lines\n",
    "plt.grid(True, zorder=0)\n",
    "\n",
    "# forces the bar plot to be on top of the grid lines\n",
    "plt.gca().set_axisbelow(True)\n",
    "\n",
    "plt.savefig('output/fig_0.png', dpi='figure')\n",
    "plt.show()"
   ]
  },
  {
   "cell_type": "markdown",
   "metadata": {
    "id": "58zOeFd69_Ee"
   },
   "source": [
    "Coffee shops are the most numerous in this market with 96 counts. Cafes are in second place with 57 counts.\n",
    "\n",
    "By simply just looking at number of locations, coffee shops will be a good place to market the cups."
   ]
  },
  {
   "cell_type": "markdown",
   "metadata": {
    "id": "rLDjE-3Z_m2n"
   },
   "source": [
    "### How does the range in number of reviews differ across all shops\n"
   ]
  },
  {
   "cell_type": "code",
   "execution_count": 13,
   "metadata": {
    "colab": {
     "base_uri": "https://localhost:8080/"
    },
    "executionInfo": {
     "elapsed": 26,
     "status": "ok",
     "timestamp": 1686638535052,
     "user": {
      "displayName": "Evinash",
      "userId": "05532691529750475260"
     },
     "user_tz": -480
    },
    "id": "TSPUKaj8ANXU",
    "outputId": "da2b76a9-089c-4af9-a11e-79f40f8928ba"
   },
   "outputs": [
    {
     "data": {
      "text/plain": [
       "0    206.0\n",
       "1     24.0\n",
       "2     11.0\n",
       "3    331.0\n",
       "4     12.0\n",
       "Name: Reviews, dtype: float64"
      ]
     },
     "execution_count": 13,
     "metadata": {},
     "output_type": "execute_result"
    }
   ],
   "source": [
    "reviews = coffee_clean['Reviews']\n",
    "reviews.head()"
   ]
  },
  {
   "cell_type": "code",
   "execution_count": 14,
   "metadata": {
    "colab": {
     "base_uri": "https://localhost:8080/",
     "height": 472
    },
    "executionInfo": {
     "elapsed": 23,
     "status": "ok",
     "timestamp": 1686638535054,
     "user": {
      "displayName": "Evinash",
      "userId": "05532691529750475260"
     },
     "user_tz": -480
    },
    "id": "Rm4oB2qEBRBV",
    "outputId": "979ef286-2036-4312-c764-a83e53ec789d"
   },
   "outputs": [
    {
     "data": {
      "image/png": "[encoded data removed]",
      "text/plain": [
       "<Figure size 640x480 with 1 Axes>"
      ]
     },
     "metadata": {},
     "output_type": "display_data"
    },
    {
     "data": {
      "text/plain": [
       "<Figure size 640x480 with 0 Axes>"
      ]
     },
     "metadata": {},
     "output_type": "display_data"
    }
   ],
   "source": [
    "# making a histogram to show the distribution\n",
    "reviews.hist(bins=50)\n",
    "\n",
    "plt.xlabel('Number of reviews')\n",
    "plt.ylabel('Count')\n",
    "plt.title('Distribution of reviews')\n",
    "\n",
    "# adds grid lines\n",
    "plt.grid(True, zorder=0)\n",
    "\n",
    "# forces the bar plot to be on top of the grid lines\n",
    "plt.gca().set_axisbelow(True)\n",
    "\n",
    "plt.savefig('fig_1.png', dpi='figure')\n",
    "plt.show()"
   ]
  },
  {
   "cell_type": "markdown",
   "metadata": {
    "id": "VfBaYXgfD6ew"
   },
   "source": [
    "We can see one outlier (which was 17937 reviews). Let's try removing that outlier so we can take a look at the histogram again."
   ]
  },
  {
   "cell_type": "code",
   "execution_count": 15,
   "metadata": {
    "colab": {
     "base_uri": "https://localhost:8080/",
     "height": 472
    },
    "executionInfo": {
     "elapsed": 591,
     "status": "ok",
     "timestamp": 1686638535626,
     "user": {
      "displayName": "Evinash",
      "userId": "05532691529750475260"
     },
     "user_tz": -480
    },
    "id": "m5xuopoaESuy",
    "outputId": "0bf19084-4f2f-4822-af77-80422b4f3078"
   },
   "outputs": [
    {
     "data": {
      "image/png": "[encoded data removed]",
      "text/plain": [
       "<Figure size 640x480 with 1 Axes>"
      ]
     },
     "metadata": {},
     "output_type": "display_data"
    },
    {
     "data": {
      "text/plain": [
       "<Figure size 640x480 with 0 Axes>"
      ]
     },
     "metadata": {},
     "output_type": "display_data"
    }
   ],
   "source": [
    "# taking out the outlier\n",
    "max = coffee_clean['Reviews'].max()\n",
    "coffee_flat = coffee_clean[coffee_clean['Reviews'] != max]\n",
    "\n",
    "reviews = coffee_flat['Reviews']\n",
    "\n",
    "plt.clf()\n",
    "\n",
    "# making a histogram to show the distribution\n",
    "reviews.hist(bins=20)\n",
    "\n",
    "plt.xlabel('Number of reviews')\n",
    "plt.ylabel('Occurence')\n",
    "plt.title('Distribution of reviews')\n",
    "\n",
    "# adds grid lines\n",
    "plt.grid(True, zorder=0)\n",
    "\n",
    "# forces the bar plot to be on top of the grid lines\n",
    "plt.gca().set_axisbelow(True)\n",
    "\n",
    "plt.savefig('fig_2.png', dpi='figure')\n",
    "plt.show()"
   ]
  },
  {
   "cell_type": "markdown",
   "metadata": {
    "id": "rpMxdnxxfqJ9"
   },
   "source": [
    "From the histogram above we can see that the large majority of number of reviews are 500 or less. Getting a shop with more than 500 is rare.\n",
    "\n",
    "However, shops with a large number of reviews indicate a large number of human traffic. So these are worthwhile to take a look as well."
   ]
  },
  {
   "cell_type": "markdown",
   "metadata": {
    "id": "5TT7hfwkFm4h"
   },
   "source": [
    "For curiosity's sake let's take a look at the outlier with almost 18000 reviews."
   ]
  },
  {
   "cell_type": "code",
   "execution_count": 16,
   "metadata": {
    "colab": {
     "base_uri": "https://localhost:8080/"
    },
    "executionInfo": {
     "elapsed": 28,
     "status": "ok",
     "timestamp": 1686638535627,
     "user": {
      "displayName": "Evinash",
      "userId": "05532691529750475260"
     },
     "user_tz": -480
    },
    "id": "YbeWLKR4FZXf",
    "outputId": "76600bbc-ef61-42ec-abc3-70602c095aac"
   },
   "outputs": [
    {
     "name": "stdout",
     "output_type": "stream",
     "text": [
      "    Region               Place name   Place type  Rating  Reviews Price  \\\n",
      "100      E  Lviv Coffee Manufacture  Coffee shop     4.7  17937.0    $$   \n",
      "\n",
      "     Delivery option  Dine in option  Takeout option  \n",
      "100             True            True            True  \n"
     ]
    }
   ],
   "source": [
    "# taking a look at the outlier\n",
    "print(coffee_clean[coffee_clean['Reviews'] == max])\n",
    "\n"
   ]
  },
  {
   "cell_type": "markdown",
   "metadata": {
    "id": "iZgb9SsPgMbi"
   },
   "source": [
    "### How does the number of reviews vary across each place type?"
   ]
  },
  {
   "cell_type": "code",
   "execution_count": 17,
   "metadata": {
    "colab": {
     "base_uri": "https://localhost:8080/",
     "height": 315
    },
    "executionInfo": {
     "elapsed": 488,
     "status": "ok",
     "timestamp": 1686641690950,
     "user": {
      "displayName": "Evinash",
      "userId": "05532691529750475260"
     },
     "user_tz": -480
    },
    "id": "T-pj_W-zla2-",
    "outputId": "dd2860f8-1e8c-45f2-86e3-1a49c153becf"
   },
   "outputs": [
    {
     "name": "stderr",
     "output_type": "stream",
     "text": [
      "/tmp/ipykernel_140439/3807357129.py:11: SettingWithCopyWarning: \n",
      "A value is trying to be set on a copy of a slice from a DataFrame.\n",
      "Try using .loc[row_indexer,col_indexer] = value instead\n",
      "\n",
      "See the caveats in the documentation: https://pandas.pydata.org/pandas-docs/stable/user_guide/indexing.html#returning-a-view-versus-a-copy\n",
      "  coffee_place_review['color'] = coffee_place_review['Place type'].map(color_dict)\n"
     ]
    },
    {
     "data": {
      "text/html": [
       "<div>\n",
       "<style scoped>\n",
       "    .dataframe tbody tr th:only-of-type {\n",
       "        vertical-align: middle;\n",
       "    }\n",
       "\n",
       "    .dataframe tbody tr th {\n",
       "        vertical-align: top;\n",
       "    }\n",
       "\n",
       "    .dataframe thead th {\n",
       "        text-align: right;\n",
       "    }\n",
       "</style>\n",
       "<table border=\"1\" class=\"dataframe\">\n",
       "  <thead>\n",
       "    <tr style=\"text-align: right;\">\n",
       "      <th></th>\n",
       "      <th>Place type</th>\n",
       "      <th>Reviews</th>\n",
       "      <th>Rating</th>\n",
       "      <th>color</th>\n",
       "    </tr>\n",
       "  </thead>\n",
       "  <tbody>\n",
       "    <tr>\n",
       "      <th>0</th>\n",
       "      <td>Others</td>\n",
       "      <td>206.0</td>\n",
       "      <td>4.6</td>\n",
       "      <td>b</td>\n",
       "    </tr>\n",
       "    <tr>\n",
       "      <th>1</th>\n",
       "      <td>Cafe</td>\n",
       "      <td>24.0</td>\n",
       "      <td>5.0</td>\n",
       "      <td>g</td>\n",
       "    </tr>\n",
       "    <tr>\n",
       "      <th>2</th>\n",
       "      <td>Coffee shop</td>\n",
       "      <td>11.0</td>\n",
       "      <td>5.0</td>\n",
       "      <td>r</td>\n",
       "    </tr>\n",
       "    <tr>\n",
       "      <th>3</th>\n",
       "      <td>Coffee shop</td>\n",
       "      <td>331.0</td>\n",
       "      <td>4.4</td>\n",
       "      <td>r</td>\n",
       "    </tr>\n",
       "    <tr>\n",
       "      <th>4</th>\n",
       "      <td>Coffee shop</td>\n",
       "      <td>12.0</td>\n",
       "      <td>5.0</td>\n",
       "      <td>r</td>\n",
       "    </tr>\n",
       "  </tbody>\n",
       "</table>\n",
       "</div>"
      ],
      "text/plain": [
       "    Place type  Reviews  Rating color\n",
       "0       Others    206.0     4.6     b\n",
       "1         Cafe     24.0     5.0     g\n",
       "2  Coffee shop     11.0     5.0     r\n",
       "3  Coffee shop    331.0     4.4     r\n",
       "4  Coffee shop     12.0     5.0     r"
      ]
     },
     "execution_count": 17,
     "metadata": {},
     "output_type": "execute_result"
    }
   ],
   "source": [
    "# making a dictionary that maps color for different place types for scatter plot\n",
    "color_dict = {'Others':'b',\n",
    "              'Cafe':'g',\n",
    "              'Coffee shop':'r',\n",
    "              'Espresso bar':'c'}\n",
    "\n",
    "\n",
    "coffee_place_review = coffee_clean[['Place type', 'Reviews', 'Rating']]\n",
    "\n",
    "# mapping colors into the dataframe\n",
    "coffee_place_review['color'] = coffee_place_review['Place type'].map(color_dict)\n",
    "\n",
    "coffee_place_review.head()"
   ]
  },
  {
   "cell_type": "code",
   "execution_count": 18,
   "metadata": {
    "colab": {
     "base_uri": "https://localhost:8080/",
     "height": 472
    },
    "executionInfo": {
     "elapsed": 658,
     "status": "ok",
     "timestamp": 1686641726139,
     "user": {
      "displayName": "Evinash",
      "userId": "05532691529750475260"
     },
     "user_tz": -480
    },
    "id": "txlpjgjuoZWB",
    "outputId": "2994b226-e09b-4b1d-d9f4-a594f7049a48"
   },
   "outputs": [
    {
     "data": {
      "image/png": "[encoded data removed]",
      "text/plain": [
       "<Figure size 640x480 with 1 Axes>"
      ]
     },
     "metadata": {},
     "output_type": "display_data"
    },
    {
     "data": {
      "text/plain": [
       "<Figure size 640x480 with 0 Axes>"
      ]
     },
     "metadata": {},
     "output_type": "display_data"
    }
   ],
   "source": [
    "# plotting a scatter plot\n",
    "# remove stored figure values\n",
    "plt.clf()\n",
    "\n",
    "# making a scatter plot to show the distribution\n",
    "plt.scatter(coffee_place_review['Rating'], coffee_place_review['Reviews'], c=coffee_place_review['color'])\n",
    "\n",
    "plt.xlabel('Rating')\n",
    "plt.ylabel('No. of Reviews')\n",
    "plt.title('Distribution of reviews')\n",
    "\n",
    "# adds grid lines\n",
    "plt.grid(True, zorder=0)\n",
    "\n",
    "# forces the bar plot to be on top of the grid lines\n",
    "plt.gca().set_axisbelow(True)\n",
    "\n",
    "plt.savefig('output/fig_3.png', dpi='figure')\n",
    "plt.show()"
   ]
  },
  {
   "cell_type": "markdown",
   "metadata": {
    "id": "xVEn1MV1roOF"
   },
   "source": [
    "Again we see the outlier stretching the plot. Let's remove it and have a look at the plot again."
   ]
  },
  {
   "cell_type": "code",
   "execution_count": 19,
   "metadata": {
    "colab": {
     "base_uri": "https://localhost:8080/",
     "height": 315
    },
    "executionInfo": {
     "elapsed": 22,
     "status": "ok",
     "timestamp": 1686643715465,
     "user": {
      "displayName": "Evinash",
      "userId": "05532691529750475260"
     },
     "user_tz": -480
    },
    "id": "qm1ZtGWQrxGZ",
    "outputId": "51be6d62-8f76-4442-a318-5e53463fe5ed"
   },
   "outputs": [
    {
     "name": "stderr",
     "output_type": "stream",
     "text": [
      "/tmp/ipykernel_140439/3025186104.py:5: SettingWithCopyWarning: \n",
      "A value is trying to be set on a copy of a slice from a DataFrame.\n",
      "Try using .loc[row_indexer,col_indexer] = value instead\n",
      "\n",
      "See the caveats in the documentation: https://pandas.pydata.org/pandas-docs/stable/user_guide/indexing.html#returning-a-view-versus-a-copy\n",
      "  coffee_flat_place_review['color'] = coffee_flat_place_review['Place type'].map(color_dict)\n"
     ]
    },
    {
     "data": {
      "text/html": [
       "<div>\n",
       "<style scoped>\n",
       "    .dataframe tbody tr th:only-of-type {\n",
       "        vertical-align: middle;\n",
       "    }\n",
       "\n",
       "    .dataframe tbody tr th {\n",
       "        vertical-align: top;\n",
       "    }\n",
       "\n",
       "    .dataframe thead th {\n",
       "        text-align: right;\n",
       "    }\n",
       "</style>\n",
       "<table border=\"1\" class=\"dataframe\">\n",
       "  <thead>\n",
       "    <tr style=\"text-align: right;\">\n",
       "      <th></th>\n",
       "      <th>Place type</th>\n",
       "      <th>Reviews</th>\n",
       "      <th>Rating</th>\n",
       "      <th>color</th>\n",
       "    </tr>\n",
       "  </thead>\n",
       "  <tbody>\n",
       "    <tr>\n",
       "      <th>0</th>\n",
       "      <td>Others</td>\n",
       "      <td>206.0</td>\n",
       "      <td>4.6</td>\n",
       "      <td>b</td>\n",
       "    </tr>\n",
       "    <tr>\n",
       "      <th>1</th>\n",
       "      <td>Cafe</td>\n",
       "      <td>24.0</td>\n",
       "      <td>5.0</td>\n",
       "      <td>g</td>\n",
       "    </tr>\n",
       "    <tr>\n",
       "      <th>2</th>\n",
       "      <td>Coffee shop</td>\n",
       "      <td>11.0</td>\n",
       "      <td>5.0</td>\n",
       "      <td>r</td>\n",
       "    </tr>\n",
       "    <tr>\n",
       "      <th>3</th>\n",
       "      <td>Coffee shop</td>\n",
       "      <td>331.0</td>\n",
       "      <td>4.4</td>\n",
       "      <td>r</td>\n",
       "    </tr>\n",
       "    <tr>\n",
       "      <th>4</th>\n",
       "      <td>Coffee shop</td>\n",
       "      <td>12.0</td>\n",
       "      <td>5.0</td>\n",
       "      <td>r</td>\n",
       "    </tr>\n",
       "  </tbody>\n",
       "</table>\n",
       "</div>"
      ],
      "text/plain": [
       "    Place type  Reviews  Rating color\n",
       "0       Others    206.0     4.6     b\n",
       "1         Cafe     24.0     5.0     g\n",
       "2  Coffee shop     11.0     5.0     r\n",
       "3  Coffee shop    331.0     4.4     r\n",
       "4  Coffee shop     12.0     5.0     r"
      ]
     },
     "execution_count": 19,
     "metadata": {},
     "output_type": "execute_result"
    }
   ],
   "source": [
    "# taken from above\n",
    "coffee_flat_place_review = coffee_flat[['Place type', 'Reviews', 'Rating']]\n",
    "\n",
    "# mapping colors into the dataframe\n",
    "coffee_flat_place_review['color'] = coffee_flat_place_review['Place type'].map(color_dict)\n",
    "coffee_flat_place_review.head()"
   ]
  },
  {
   "cell_type": "code",
   "execution_count": 20,
   "metadata": {
    "colab": {
     "base_uri": "https://localhost:8080/",
     "height": 490
    },
    "executionInfo": {
     "elapsed": 560,
     "status": "ok",
     "timestamp": 1686643796099,
     "user": {
      "displayName": "Evinash",
      "userId": "05532691529750475260"
     },
     "user_tz": -480
    },
    "id": "eKK3B2H4sOHA",
    "outputId": "88e5ab49-770a-4236-b922-178151d2dd41"
   },
   "outputs": [
    {
     "data": {
      "text/plain": [
       "<Figure size 640x480 with 0 Axes>"
      ]
     },
     "metadata": {},
     "output_type": "display_data"
    },
    {
     "data": {
      "image/png": "[encoded data removed]",
      "text/plain": [
       "<Figure size 640x480 with 1 Axes>"
      ]
     },
     "metadata": {},
     "output_type": "display_data"
    },
    {
     "data": {
      "text/plain": [
       "<Figure size 640x480 with 0 Axes>"
      ]
     },
     "metadata": {},
     "output_type": "display_data"
    }
   ],
   "source": [
    "# plotting a scatter plot\n",
    "# remove stored figure values\n",
    "plt.clf()\n",
    "\n",
    "# making a scatter plot to show the distribution\n",
    "coffee_flat_place_review.plot(kind='scatter',x='Rating', y='Reviews', c='color', alpha=0.75)\n",
    "\n",
    "plt.xlabel('Rating')\n",
    "plt.ylabel('No. of Reviews')\n",
    "plt.title('Distribution of reviews')\n",
    "\n",
    "# adds grid lines\n",
    "plt.grid(True, zorder=0)\n",
    "\n",
    "# forces the bar plot to be on top of the grid lines\n",
    "plt.gca().set_axisbelow(True)\n",
    "\n",
    "# Get unique place types and their corresponding colors\n",
    "place_types = coffee_flat_place_review['Place type'].unique()\n",
    "colors = coffee_flat_place_review['color'].unique()\n",
    "\n",
    "# Create legend handles and labels\n",
    "handles = [plt.scatter([], [], c=color, label=place_type) for place_type, color in zip(place_types, colors)]\n",
    "labels = place_types\n",
    "\n",
    "# Add legend with title\n",
    "plt.legend(handles, labels, title='Place Type')\n",
    "\n",
    "# Display the plot\n",
    "plt.savefig('output/fig_4.png', dpi='figure')\n",
    "plt.show()"
   ]
  },
  {
   "cell_type": "markdown",
   "metadata": {
    "id": "LmfVZ7bxzoqU"
   },
   "source": [
    "It's not immediately clear regarding the spread and amount of reviews for each place type.\n",
    "\n",
    "Will try a boxplot instead."
   ]
  },
  {
   "cell_type": "code",
   "execution_count": 21,
   "metadata": {
    "colab": {
     "base_uri": "https://localhost:8080/"
    },
    "executionInfo": {
     "elapsed": 11,
     "status": "ok",
     "timestamp": 1686645189747,
     "user": {
      "displayName": "Evinash",
      "userId": "05532691529750475260"
     },
     "user_tz": -480
    },
    "id": "SccKSdp-1EY8",
    "outputId": "684e9f9d-43cc-4b63-f66f-bbb5d9eb52ff"
   },
   "outputs": [
    {
     "name": "stdout",
     "output_type": "stream",
     "text": [
      "Place type\n",
      "Cafe            [24.0, 18.0, 806.0, 609.0, 172.0, 234.0, 166.0...\n",
      "Coffee shop     [11.0, 331.0, 12.0, 200.0, 292.0, 31.0, 125.0,...\n",
      "Espresso bar    [367.0, 14.0, 124.0, 46.0, 27.0, 11.0, 118.0, ...\n",
      "Others          [206.0, 347.0, 1376.0, 37.0, 1345.0, 12.0, 15....\n",
      "Name: Reviews, dtype: object\n"
     ]
    }
   ],
   "source": [
    "grouped_reviews = coffee_clean.groupby('Place type')['Reviews'].apply(list)\n",
    "print(grouped_reviews)"
   ]
  },
  {
   "cell_type": "code",
   "execution_count": 22,
   "metadata": {
    "colab": {
     "base_uri": "https://localhost:8080/"
    },
    "executionInfo": {
     "elapsed": 525,
     "status": "ok",
     "timestamp": 1686645204190,
     "user": {
      "displayName": "Evinash",
      "userId": "05532691529750475260"
     },
     "user_tz": -480
    },
    "id": "5D6wS3B12uTP",
    "outputId": "fa4ee489-e8c0-4c41-88b5-a541b96fb76f"
   },
   "outputs": [
    {
     "name": "stdout",
     "output_type": "stream",
     "text": [
      "[[24.0, 18.0, 806.0, 609.0, 172.0, 234.0, 166.0, 329.0, 569.0, 860.0, 1195.0, 226.0, 15.0, 726.0, 103.0, 598.0, 14.0, 385.0, 440.0, 807.0, 1656.0, 1570.0, 10.0, 2236.0, 157.0, 998.0, 1509.0, 124.0, 479.0, 190.0, 40.0, 342.0, 327.0, 740.0, 1439.0, 947.0, 156.0, 116.0, 38.0, 33.0, 26.0, 1737.0, 1281.0, 1633.0, 96.0, 189.0, 1529.0, 38.0, 37.0, 170.0, 155.0, 9.0, 1051.0, 18.0, 646.0, 16.0, 341.0], [11.0, 331.0, 12.0, 200.0, 292.0, 31.0, 125.0, 112.0, 14.0, 136.0, 10.0, 1596.0, 1785.0, 459.0, 898.0, 12.0, 112.0, 17.0, 716.0, 15.0, 18.0, 26.0, 485.0, 279.0, 241.0, 18.0, 587.0, 593.0, 1201.0, 67.0, 275.0, 304.0, 97.0, 38.0, 98.0, 341.0, 414.0, 488.0, 837.0, 335.0, 2700.0, 122.0, 21.0, 64.0, 2141.0, 202.0, 113.0, 40.0, 39.0, 789.0, 150.0, 80.0, 10.0, 17937.0, 2931.0, 2089.0, 813.0, 1517.0, 858.0, 702.0, 102.0, 778.0, 1009.0, 2873.0, 24.0, 363.0, 1284.0, 321.0, 699.0, 455.0, 156.0, 304.0, 22.0, 26.0, 282.0, 2319.0, 64.0, 514.0, 110.0, 642.0, 400.0, 403.0, 2914.0, 40.0, 512.0, 3.0, 289.0, 702.0, 261.0, 118.0, 121.0, 1758.0, 551.0, 830.0, 2013.0, 599.0], [367.0, 14.0, 124.0, 46.0, 27.0, 11.0, 118.0, 223.0, 1482.0, 1415.0, 36.0, 49.0, 693.0, 1908.0, 824.0, 35.0, 1300.0, 268.0, 1394.0, 185.0], [206.0, 347.0, 1376.0, 37.0, 1345.0, 12.0, 15.0, 121.0, 132.0, 167.0, 10.0, 15.0, 47.0, 111.0, 1199.0, 401.0, 1820.0, 21.0, 373.0, 10.0, 222.0, 2381.0, 39.0, 185.0, 963.0]]\n"
     ]
    }
   ],
   "source": [
    "# Create a list of reviews for each place type\n",
    "reviews_by_place_type = [reviews for _, reviews in grouped_reviews.items()]\n",
    "\n",
    "print(reviews_by_place_type)"
   ]
  },
  {
   "cell_type": "code",
   "execution_count": 23,
   "metadata": {
    "colab": {
     "base_uri": "https://localhost:8080/",
     "height": 472
    },
    "executionInfo": {
     "elapsed": 787,
     "status": "ok",
     "timestamp": 1686645206749,
     "user": {
      "displayName": "Evinash",
      "userId": "05532691529750475260"
     },
     "user_tz": -480
    },
    "id": "eJOneic93sr1",
    "outputId": "815cf494-8004-418f-d866-69f8b5bab51a"
   },
   "outputs": [
    {
     "data": {
      "image/png": "[encoded data removed]",
      "text/plain": [
       "<Figure size 640x480 with 1 Axes>"
      ]
     },
     "metadata": {},
     "output_type": "display_data"
    },
    {
     "data": {
      "text/plain": [
       "<Figure size 640x480 with 0 Axes>"
      ]
     },
     "metadata": {},
     "output_type": "display_data"
    }
   ],
   "source": [
    "# Create a box plot\n",
    "plt.boxplot(reviews_by_place_type, labels=grouped_reviews.keys())\n",
    "\n",
    "# Set labels and title\n",
    "plt.xlabel('Place Type')\n",
    "plt.ylabel('No. of Reviews')\n",
    "plt.title('Distribution of Reviews by Place Type')\n",
    "\n",
    "# adds grid lines\n",
    "plt.grid(True, zorder=0)\n",
    "\n",
    "# forces the bar plot to be on top of the grid lines\n",
    "plt.gca().set_axisbelow(True)\n",
    "\n",
    "# Display the plot\n",
    "plt.savefig('output/fig_5.png', dpi='figure')\n",
    "plt.show()"
   ]
  },
  {
   "cell_type": "markdown",
   "metadata": {
    "id": "dnr4mwQv5ICQ"
   },
   "source": [
    "In the figure above we see some clearer distributions, but the outlier again is stretching the plot.\n",
    "\n",
    "Let's try removing it again to see what happens."
   ]
  },
  {
   "cell_type": "code",
   "execution_count": 24,
   "metadata": {
    "colab": {
     "base_uri": "https://localhost:8080/",
     "height": 472
    },
    "executionInfo": {
     "elapsed": 644,
     "status": "ok",
     "timestamp": 1686645410917,
     "user": {
      "displayName": "Evinash",
      "userId": "05532691529750475260"
     },
     "user_tz": -480
    },
    "id": "aySdbf4J5aqU",
    "outputId": "e0279652-63b4-49ef-d553-fb3a665e1640"
   },
   "outputs": [
    {
     "data": {
      "image/png": "[encoded data removed]",
      "text/plain": [
       "<Figure size 640x480 with 1 Axes>"
      ]
     },
     "metadata": {},
     "output_type": "display_data"
    },
    {
     "data": {
      "text/plain": [
       "<Figure size 640x480 with 0 Axes>"
      ]
     },
     "metadata": {},
     "output_type": "display_data"
    }
   ],
   "source": [
    "grouped_reviews = coffee_flat.groupby('Place type')['Reviews'].apply(list)\n",
    "\n",
    "# Create a list of reviews for each place type\n",
    "reviews_by_place_type = [reviews for _, reviews in grouped_reviews.items()]\n",
    "\n",
    "# Create a box plot\n",
    "plt.boxplot(reviews_by_place_type, labels=grouped_reviews.keys())\n",
    "\n",
    "# Set labels and title\n",
    "plt.xlabel('Place Type')\n",
    "plt.ylabel('No. of Reviews')\n",
    "plt.title('Distribution of Reviews by Place Type')\n",
    "\n",
    "# adds grid lines\n",
    "plt.grid(True, zorder=0)\n",
    "\n",
    "# forces the bar plot to be on top of the grid lines\n",
    "plt.gca().set_axisbelow(True)\n",
    "\n",
    "# Display the plot\n",
    "plt.savefig('output/fig_6.png', dpi='figure')\n",
    "plt.show()"
   ]
  },
  {
   "cell_type": "markdown",
   "metadata": {
    "id": "S9dRIJrD8G7u"
   },
   "source": [
    "Based on the plot above, we can see that the IQR range for coffee shops is lower than for cafes and espresso bars. This suggests that for each coffee shop within the max and min range to have less reviews than the other two place types - suggesting lower traffic.\n",
    "\n",
    "This is probably due to a larger number of coffee shops, and each of them having lesser number of reviews.\n",
    "\n",
    "However, it's worth noting that there are a few coffee shops that exceed the 1500 number of reviews, and the outlier with close to 18000 number of reviews."
   ]
  },
  {
   "cell_type": "code",
   "execution_count": 25,
   "metadata": {
    "colab": {
     "base_uri": "https://localhost:8080/",
     "height": 514
    },
    "executionInfo": {
     "elapsed": 727,
     "status": "ok",
     "timestamp": 1686646639415,
     "user": {
      "displayName": "Evinash",
      "userId": "05532691529750475260"
     },
     "user_tz": -480
    },
    "id": "-RiGyihE6jDU",
    "outputId": "f3c440c6-f562-4b31-f04e-76c30b1a65a7"
   },
   "outputs": [
    {
     "data": {
      "text/plain": [
       "<Figure size 640x480 with 0 Axes>"
      ]
     },
     "metadata": {},
     "output_type": "display_data"
    },
    {
     "data": {
      "image/png": "[encoded data removed]",
      "text/plain": [
       "<Figure size 640x480 with 1 Axes>"
      ]
     },
     "metadata": {},
     "output_type": "display_data"
    }
   ],
   "source": [
    "# testing dataframe.boxplot\n",
    "coffee_reviews = coffee_flat[['Place type', 'Rating']]\n",
    "\n",
    "plt.clf()\n",
    "\n",
    "coffee_reviews.boxplot(column='Rating', by = 'Place type')\n",
    "\n",
    "plt.ylabel('No of Reviews')\n",
    "plt.title('Distribution of Rating by Place Type')\n",
    "\n",
    "plt.savefig('output/fig_7.png', dpi='figure')\n",
    "plt.plot()"
   ]
  },
  {
   "cell_type": "markdown",
   "metadata": {
    "id": "zxNrhTKm7uP6"
   },
   "source": [
    "Looks like there's an easier way to do boxplots, but less control."
   ]
  },
  {
   "cell_type": "markdown",
   "metadata": {
    "id": "JRHlDbip-kvQ"
   },
   "source": [
    "The plot above suggests that espresso bars and coffee shops having the tighest range of variability. Espresso bars have smaller range of max and min too. However, the median rating of espresso bars are slightly less than coffee shops - despite that there being a larger number of coffee shops in the first place."
   ]
  },
  {
   "cell_type": "markdown",
   "metadata": {
    "id": "FT91Q_fMAeIm"
   },
   "source": [
    "### Conclusion and Recommendation\n",
    "Based on the number of reviews and the ratings of coffee shops, a good starting point is to target coffee shops with >1000 reviews.\n",
    "\n",
    "Since there are quite a number of outlier coffee shops that sit above the 1500 number of reviews mark, we know for sure that these coffee shops will see a large number of customers - thus more exposure for the coffee cups.\n",
    "\n",
    "Below is a shortlist of qualifying coffee shops to start with."
   ]
  },
  {
   "cell_type": "code",
   "execution_count": 26,
   "metadata": {
    "colab": {
     "base_uri": "https://localhost:8080/",
     "height": 551
    },
    "executionInfo": {
     "elapsed": 528,
     "status": "ok",
     "timestamp": 1686647725372,
     "user": {
      "displayName": "Evinash",
      "userId": "05532691529750475260"
     },
     "user_tz": -480
    },
    "id": "-qvBjdY7BbjM",
    "outputId": "448336bc-2ce2-4f27-eb32-a9dac41fe8c3"
   },
   "outputs": [],
   "source": [
    "shops_to_target = coffee_clean[(coffee_clean['Reviews'] >= 1000) & (coffee_clean['Place type'] == 'Coffee shop')]\n",
    "shops_to_target[['Place name', 'Reviews', 'Rating']]\n",
    "\n",
    "# saving into a csv\n",
    "shops_to_target.to_csv('shops_to_target.csv')"
   ]
  }
 ],
 "metadata": {
  "colab": {
   "authorship_tag": "ABX9TyPRP0f9PMLS+gTo98eOivMh",
   "provenance": []
  },
  "kernelspec": {
   "display_name": "Python 3 (ipykernel)",
   "language": "python",
   "name": "python3"
  },
  "language_info": {
   "codemirror_mode": {
    "name": "ipython",
    "version": 3
   },
   "file_extension": ".py",
   "mimetype": "text/x-python",
   "name": "python",
   "nbconvert_exporter": "python",
   "pygments_lexer": "ipython3",
   "version": "3.11.3"
  }
 },
 "nbformat": 4,
 "nbformat_minor": 4
}
